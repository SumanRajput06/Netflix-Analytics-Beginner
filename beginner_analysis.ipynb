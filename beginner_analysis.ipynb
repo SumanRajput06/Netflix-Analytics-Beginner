{
 "cells": [
  {
   "cell_type": "markdown",
   "id": "54f61f37",
   "metadata": {},
   "source": [
    "# 📊 Netflix Data Analytics – Beginner Version\n",
    "Created by **Suman Rajput** | 📅 June 29, 2025\n",
    "\n",
    "This beginner-friendly project explores the Netflix dataset using basic data analysis techniques in Python.  \n",
    "We’ll analyze trends in content type, country, categories, and more – using dark mode visualizations.\n",
    "\n",
    "---\n"
   ]
  },
  {
   "cell_type": "code",
   "execution_count": null,
   "id": "7fbe42bd",
   "metadata": {},
   "outputs": [],
   "source": [
    "import pandas as pd\n",
    "import matplotlib.pyplot as plt\n",
    "import seaborn as sns\n",
    "\n",
    "plt.style.use('dark_background')\n",
    "sns.set(style=\"darkgrid\")\n",
    "\n",
    "df = pd.read_csv(\"netflix_titles.csv\")\n",
    "df['date_added'] = pd.to_datetime(df['date_added'], errors='coerce')\n",
    "df['year_added'] = df['date_added'].dt.year\n",
    "df.head()\n"
   ]
  },
  {
   "cell_type": "code",
   "execution_count": null,
   "id": "10d51266",
   "metadata": {},
   "outputs": [],
   "source": [
    "plt.figure(figsize=(6, 4))\n",
    "sns.countplot(data=df, x='type', palette='cool')\n",
    "plt.title('Distribution of Content Types')\n",
    "plt.show()\n"
   ]
  },
  {
   "cell_type": "code",
   "execution_count": null,
   "id": "2ae3ca2d",
   "metadata": {},
   "outputs": [],
   "source": [
    "top_countries = df['country'].value_counts().dropna().head(10)\n",
    "top_countries.plot(kind='bar', figsize=(8, 4), color='orange')\n",
    "plt.title('Top 10 Countries with Most Content')\n",
    "plt.ylabel('Number of Titles')\n",
    "plt.show()\n"
   ]
  },
  {
   "cell_type": "code",
   "execution_count": null,
   "id": "4756fe0a",
   "metadata": {},
   "outputs": [],
   "source": [
    "content_by_year = df['year_added'].value_counts().sort_index()\n",
    "content_by_year.plot(kind='line', marker='o', color='lime', figsize=(10, 4))\n",
    "plt.title('Content Added Over the Years')\n",
    "plt.ylabel('Titles Added')\n",
    "plt.show()\n"
   ]
  },
  {
   "cell_type": "code",
   "execution_count": null,
   "id": "bc86610b",
   "metadata": {},
   "outputs": [],
   "source": [
    "from collections import Counter\n",
    "categories = df['listed_in'].dropna().str.split(', ')\n",
    "flat_categories = [cat for sublist in categories for cat in sublist]\n",
    "top_categories = dict(Counter(flat_categories).most_common(10))\n",
    "\n",
    "sns.barplot(x=list(top_categories.values()), y=list(top_categories.keys()), palette='viridis')\n",
    "plt.title('Top 10 Genres / Categories')\n",
    "plt.show()\n"
   ]
  }
 ],
 "metadata": {},
 "nbformat": 4,
 "nbformat_minor": 5
}
